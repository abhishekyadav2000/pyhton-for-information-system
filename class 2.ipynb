{
 "cells": [
  {
   "cell_type": "code",
   "execution_count": 2,
   "id": "e041608a-6f54-4059-a242-4e2dd401b4da",
   "metadata": {},
   "outputs": [
    {
     "name": "stdout",
     "output_type": "stream",
     "text": [
      "43\n",
      "python\n",
      "1845\n"
     ]
    }
   ],
   "source": [
    "# assign a number to a varible\n",
    "number = 43 \n",
    "\n",
    "#print the assigned number \n",
    "print (number)\n",
    "\n",
    "#assign a string to a varible\n",
    "my_string = \"python\"\n",
    "\n",
    "print (my_string)\n",
    "\n",
    "number = number * number - 4\n",
    "print(number)"
   ]
  },
  {
   "cell_type": "code",
   "execution_count": null,
   "id": "c74b6662-6f57-427f-be80-fb2e65247d86",
   "metadata": {},
   "outputs": [],
   "source": [
    "23 = number "
   ]
  },
  {
   "cell_type": "code",
   "execution_count": null,
   "id": "83083dcd-d939-40ed-8abe-4b1f9d147c73",
   "metadata": {},
   "outputs": [],
   "source": [
    "a number = 23"
   ]
  },
  {
   "cell_type": "code",
   "execution_count": null,
   "id": "071a90dd-2dcf-4851-b4b1-9ad245cbb997",
   "metadata": {},
   "outputs": [],
   "source": [
    "number_1 = 23\n",
    "number_1 = -12\n",
    "number_1 = 1000\n",
    "4_number = 10"
   ]
  },
  {
   "cell_type": "code",
   "execution_count": null,
   "id": "b02c7e0f-a4c7-495b-9d15-041947aaf7c1",
   "metadata": {},
   "outputs": [],
   "source": [
    "# no recommended \n",
    "_number = 23 "
   ]
  },
  {
   "cell_type": "code",
   "execution_count": null,
   "id": "b21cf08f-fa97-4e88-9353-de10fa1476d6",
   "metadata": {},
   "outputs": [],
   "source": [
    "# recommeded\n",
    "_number = 23"
   ]
  },
  {
   "cell_type": "code",
   "execution_count": null,
   "id": "7a22ee83-6675-46db-9f0b-8a6eb48fc235",
   "metadata": {},
   "outputs": [],
   "source": [
    "num! = 23"
   ]
  },
  {
   "cell_type": "code",
   "execution_count": null,
   "id": "01288027-009f-49dd-b384-0d16c28fc3ce",
   "metadata": {},
   "outputs": [],
   "source": [
    "age = 23\n",
    "year = 2024\n",
    "expriation_year = 2026"
   ]
  },
  {
   "cell_type": "code",
   "execution_count": null,
   "id": "e6fcb56d-541b-4adb-b98c-3b26e909f01e",
   "metadata": {},
   "outputs": [],
   "source": [
    "class = 23 "
   ]
  },
  {
   "cell_type": "code",
   "execution_count": 3,
   "id": "eef65ae7-c917-4d18-8ce1-69d9e77a810d",
   "metadata": {},
   "outputs": [
    {
     "ename": "SyntaxError",
     "evalue": "expected ':' (3440435761.py, line 1)",
     "output_type": "error",
     "traceback": [
      "\u001b[0;36m  Cell \u001b[0;32mIn[3], line 1\u001b[0;36m\u001b[0m\n\u001b[0;31m    try\u001b[0m\n\u001b[0m       ^\u001b[0m\n\u001b[0;31mSyntaxError\u001b[0m\u001b[0;31m:\u001b[0m expected ':'\n"
     ]
    }
   ],
   "source": [
    "try"
   ]
  },
  {
   "cell_type": "code",
   "execution_count": 4,
   "id": "979da13b-edd8-41e2-a267-531f221bb06c",
   "metadata": {},
   "outputs": [
    {
     "name": "stdout",
     "output_type": "stream",
     "text": [
      "35\n",
      "11\n",
      "276\n",
      "1.9166666666666667\n"
     ]
    }
   ],
   "source": [
    "# arithematic operations \n",
    "num1 = 23 \n",
    "num2 = 12\n",
    "print (num1 + num2)\n",
    "print (num1 - num2)\n",
    "print (num1 * num2)\n",
    "print (num1 / num2)\n"
   ]
  },
  {
   "cell_type": "code",
   "execution_count": 5,
   "id": "90ba67d5-76fd-4d9e-8f5a-6c41bab45638",
   "metadata": {},
   "outputs": [
    {
     "name": "stdout",
     "output_type": "stream",
     "text": [
      "1\n"
     ]
    }
   ],
   "source": [
    "print (num1 // num2)"
   ]
  },
  {
   "cell_type": "code",
   "execution_count": 6,
   "id": "c91d7842-9f88-46dd-a1d0-4686bc577c43",
   "metadata": {},
   "outputs": [
    {
     "name": "stdout",
     "output_type": "stream",
     "text": [
      "11\n"
     ]
    }
   ],
   "source": [
    "print (num1 % num2)"
   ]
  },
  {
   "cell_type": "code",
   "execution_count": 11,
   "id": "65c7471d-a65c-41dd-a395-d755677fac26",
   "metadata": {},
   "outputs": [
    {
     "name": "stdout",
     "output_type": "stream",
     "text": [
      "529\n"
     ]
    }
   ],
   "source": [
    "print (num1 ** 2)\n"
   ]
  },
  {
   "cell_type": "code",
   "execution_count": 8,
   "id": "9c20ae1e-ea33-4d6d-a76b-072a2d4ce801",
   "metadata": {},
   "outputs": [
    {
     "name": "stdout",
     "output_type": "stream",
     "text": [
      "4.795831523312719\n"
     ]
    }
   ],
   "source": [
    "print (23 ** 0.5)"
   ]
  },
  {
   "cell_type": "code",
   "execution_count": 9,
   "id": "802fb50c-9692-4b44-aa75-a8b4ed2276bf",
   "metadata": {},
   "outputs": [
    {
     "name": "stdout",
     "output_type": "stream",
     "text": [
      "1.0\n"
     ]
    }
   ],
   "source": [
    "print (23.5 // 12)"
   ]
  },
  {
   "cell_type": "code",
   "execution_count": 12,
   "id": "2a1439b9-9754-42b7-b1a6-c22dd64967b9",
   "metadata": {},
   "outputs": [
    {
     "name": "stdout",
     "output_type": "stream",
     "text": [
      "9\n"
     ]
    }
   ],
   "source": [
    "num1 = 23 \n",
    "num2 = 12\n",
    "print(num1 // num2 + 2 ** 3)"
   ]
  },
  {
   "cell_type": "code",
   "execution_count": 13,
   "id": "671b7823-4e1c-4d08-a921-e677f8b0e742",
   "metadata": {},
   "outputs": [
    {
     "name": "stdout",
     "output_type": "stream",
     "text": [
      "4\n"
     ]
    }
   ],
   "source": [
    "num1 = 23 \n",
    "num2 = 12\n",
    "print(num1 // num2 + 2 ** 3 % 5)    # num1 and num 2 is 1 and  5 - 1 = 4   3 is the reminder "
   ]
  },
  {
   "cell_type": "code",
   "execution_count": 16,
   "id": "c5b6eb48-c8f9-4742-915d-02941a2f1cf7",
   "metadata": {},
   "outputs": [
    {
     "name": "stdout",
     "output_type": "stream",
     "text": [
      "42.57142857142857\n"
     ]
    }
   ],
   "source": [
    "num1 = 9.5 * 4.5\n",
    "num2 = 2.5 * 3 \n",
    "num3 = 45.5 - 3.5\n",
    "print (num1 - num2 / num3)"
   ]
  },
  {
   "cell_type": "code",
   "execution_count": 17,
   "id": "08ef288f-3fe5-4475-a92b-8ae49b806260",
   "metadata": {},
   "outputs": [
    {
     "data": {
      "text/plain": [
       "0.8392857142857143"
      ]
     },
     "execution_count": 17,
     "metadata": {},
     "output_type": "execute_result"
    }
   ],
   "source": [
    "value =  (9.5 * 4.5 - 2.5 * 3) / (45.5 - 3.5)\n",
    "value"
   ]
  },
  {
   "cell_type": "code",
   "execution_count": null,
   "id": "ca4a6351-75ac-43c2-982b-90a562ab4aa8",
   "metadata": {},
   "outputs": [],
   "source": [
    "current = 341024773 \n",
    "seconds = (365 * 24 * 60 * 60)\n",
    "birth = 7 \n",
    "death = 13\n",
    "immigrant = 45 \n",
    "changes = birth - death + immigrants \n",
    "immigrants = current - \n",
    "print ( 341024773 // 7)"
   ]
  },
  {
   "cell_type": "code",
   "execution_count": 20,
   "id": "d0797af4-c207-425e-9662-12941235d33c",
   "metadata": {},
   "outputs": [
    {
     "name": "stdout",
     "output_type": "stream",
     "text": [
      "One year from now 343804869\n",
      "Two year from now 346584965\n"
     ]
    }
   ],
   "source": [
    "current = 341024773\n",
    "\n",
    "seconds = (365 * 24 * 60 * 60)\n",
    "\n",
    "\n",
    "# total number of births \n",
    "births = seconds // 7 \n",
    "deaths = seconds // 13\n",
    "immigrant = seconds // 45 \n",
    "changes = births - deaths + immigrant\n",
    "year1 = current + changes\n",
    "year2 = current + 2 * changes\n",
    "year3 = current + 3 * changes\n",
    "\n",
    "print (\"One year from now\" , year1)\n",
    "print (\"Two year from now\" , year2)"
   ]
  },
  {
   "cell_type": "code",
   "execution_count": 26,
   "id": "565ed28b-2e78-4b02-885c-9ccf4a1e2876",
   "metadata": {},
   "outputs": [
    {
     "name": "stdout",
     "output_type": "stream",
     "text": [
      "This equation has real roots: True\n"
     ]
    }
   ],
   "source": [
    "# inputs \n",
    "a = 3\n",
    "b = 4\n",
    "c = -5\n",
    "\n",
    "# process\n",
    "d = b ** 2 - 4 * a * c\n",
    "\n",
    "\n",
    "# output \n",
    "print(\"This equation has real roots:\", d >= 0)\n"
   ]
  },
  {
   "cell_type": "code",
   "execution_count": 22,
   "id": "be828497-c276-44c9-80e6-0e68920e6d03",
   "metadata": {},
   "outputs": [
    {
     "data": {
      "text/plain": [
       "True"
      ]
     },
     "execution_count": 22,
     "metadata": {},
     "output_type": "execute_result"
    }
   ],
   "source": [
    "2 < 3  "
   ]
  },
  {
   "cell_type": "code",
   "execution_count": 23,
   "id": "a5a84637-a74e-492d-912f-b79489ea5eee",
   "metadata": {},
   "outputs": [
    {
     "data": {
      "text/plain": [
       "True"
      ]
     },
     "execution_count": 23,
     "metadata": {},
     "output_type": "execute_result"
    }
   ],
   "source": [
    "2 <= 3  "
   ]
  },
  {
   "cell_type": "code",
   "execution_count": null,
   "id": "9e82ca80-3fc7-4b98-be05-93955238df4a",
   "metadata": {},
   "outputs": [],
   "source": [
    "# average \n",
    "2 == 3 \n",
    "# not equal \n",
    "2 != 3 \n"
   ]
  },
  {
   "cell_type": "code",
   "execution_count": 29,
   "id": "07a654d4-8eae-42d8-8e41-1b7f8b66307b",
   "metadata": {},
   "outputs": [
    {
     "name": "stdin",
     "output_type": "stream",
     "text": [
      "Enter a Value:  3\n"
     ]
    },
    {
     "data": {
      "text/plain": [
       "'3'"
      ]
     },
     "execution_count": 29,
     "metadata": {},
     "output_type": "execute_result"
    }
   ],
   "source": [
    "a = input(\"Enter a Value: \")\n",
    "a + 4"
   ]
  },
  {
   "cell_type": "code",
   "execution_count": 30,
   "id": "292d02d7-18f3-4990-bd3b-904b8d666ba9",
   "metadata": {},
   "outputs": [
    {
     "name": "stdin",
     "output_type": "stream",
     "text": [
      "Enter a coeffitient of x^2: 1\n",
      "Enter a coeffitient of x: 0\n",
      "Enter a constant: 1\n"
     ]
    },
    {
     "name": "stdout",
     "output_type": "stream",
     "text": [
      "This equation has real roots: False\n"
     ]
    }
   ],
   "source": [
    "# inputs \n",
    "a = float(input(\"Enter a coeffitient of x^2:\")) \n",
    "b = float(input(\"Enter a coeffitient of x:\"))\n",
    "c = float(input(\"Enter a constant:\"))\n",
    "\n",
    "# process\n",
    "d = b ** 2 - 4 * a * c\n",
    "\n",
    "\n",
    "# output \n",
    "print(\"This equation has real roots:\", d >= 0)\n",
    "# how to change  the output to yes/ no \" instead of \"true/ false\"\n"
   ]
  },
  {
   "cell_type": "code",
   "execution_count": 31,
   "id": "8389cfd9-111d-4cff-bde0-a5b0a2e41141",
   "metadata": {},
   "outputs": [
    {
     "name": "stdin",
     "output_type": "stream",
     "text": [
      "Enter a coeffitient of x^2: 1\n",
      "Enter a coeffitient of x: 2\n",
      "Enter a constant: 1\n"
     ]
    },
    {
     "name": "stdout",
     "output_type": "stream",
     "text": [
      "This equation has real roots: True\n"
     ]
    }
   ],
   "source": [
    "# inputs \n",
    "a = float(input(\"Enter a coeffitient of x^2:\")) \n",
    "b = float(input(\"Enter a coeffitient of x:\"))\n",
    "c = float(input(\"Enter a constant:\"))\n",
    "\n",
    "# process\n",
    "d = b ** 2 - 4 * a * c\n",
    "\n",
    "\n",
    "# output \n",
    "print(\"This equation has real roots:\", d >= 0)\n",
    "# how to change  the output to yes/ no \" instead of \"true/ false\"\n"
   ]
  },
  {
   "cell_type": "code",
   "execution_count": 32,
   "id": "21215ef5-8892-4034-9576-713e4fabb244",
   "metadata": {},
   "outputs": [
    {
     "data": {
      "text/plain": [
       "'Welcome topython'"
      ]
     },
     "execution_count": 32,
     "metadata": {},
     "output_type": "execute_result"
    }
   ],
   "source": [
    "\"Welcome\" + \" to\" + \"python\""
   ]
  },
  {
   "cell_type": "code",
   "execution_count": 33,
   "id": "3cbfc521-efb6-483e-a606-8d70e747a9bf",
   "metadata": {},
   "outputs": [
    {
     "data": {
      "text/plain": [
       "'PythonPython'"
      ]
     },
     "execution_count": 33,
     "metadata": {},
     "output_type": "execute_result"
    }
   ],
   "source": [
    "\"Python\" * 2"
   ]
  },
  {
   "cell_type": "code",
   "execution_count": null,
   "id": "d4a07d60-182e-46fd-b47d-714622d80f61",
   "metadata": {},
   "outputs": [],
   "source": []
  }
 ],
 "metadata": {
  "kernelspec": {
   "display_name": "Python 3 (ipykernel)",
   "language": "python",
   "name": "python3"
  },
  "language_info": {
   "codemirror_mode": {
    "name": "ipython",
    "version": 3
   },
   "file_extension": ".py",
   "mimetype": "text/x-python",
   "name": "python",
   "nbconvert_exporter": "python",
   "pygments_lexer": "ipython3",
   "version": "3.12.5"
  }
 },
 "nbformat": 4,
 "nbformat_minor": 5
}
